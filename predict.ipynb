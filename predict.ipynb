{
 "cells": [
  {
   "cell_type": "code",
   "execution_count": 1,
   "metadata": {},
   "outputs": [
    {
     "name": "stderr",
     "output_type": "stream",
     "text": [
      "2024-08-12 09:38:57.385487: E external/local_xla/xla/stream_executor/cuda/cuda_fft.cc:485] Unable to register cuFFT factory: Attempting to register factory for plugin cuFFT when one has already been registered\n",
      "2024-08-12 09:38:57.438687: E external/local_xla/xla/stream_executor/cuda/cuda_dnn.cc:8454] Unable to register cuDNN factory: Attempting to register factory for plugin cuDNN when one has already been registered\n",
      "2024-08-12 09:38:57.453408: E external/local_xla/xla/stream_executor/cuda/cuda_blas.cc:1452] Unable to register cuBLAS factory: Attempting to register factory for plugin cuBLAS when one has already been registered\n",
      "2024-08-12 09:38:57.566304: I tensorflow/core/platform/cpu_feature_guard.cc:210] This TensorFlow binary is optimized to use available CPU instructions in performance-critical operations.\n",
      "To enable the following instructions: AVX2 FMA, in other operations, rebuild TensorFlow with the appropriate compiler flags.\n",
      "2024-08-12 09:38:59.330597: W tensorflow/compiler/tf2tensorrt/utils/py_utils.cc:38] TF-TRT Warning: Could not find TensorRT\n"
     ]
    }
   ],
   "source": [
    "import tensorflow as tf\n",
    "import numpy as np\n",
    "import matplotlib.pyplot as plt\n",
    "import pandas as pd\n",
    "\n",
    "from sklearn.preprocessing import StandardScaler\n",
    "from sklearn.model_selection import train_test_split\n",
    "from sklearn.metrics import classification_report\n",
    "from sklearn.model_selection import KFold\n",
    "from sklearn.metrics import confusion_matrix, classification_report\n",
    "\n",
    "from tensorflow.keras.models import Sequential\n",
    "from tensorflow.keras.layers import GRU, Dense\n",
    "import tensorflow.keras as keras\n",
    "from tensorflow.keras.optimizers import Adam"
   ]
  },
  {
   "cell_type": "code",
   "execution_count": 2,
   "metadata": {},
   "outputs": [
    {
     "name": "stdout",
     "output_type": "stream",
     "text": [
      "GPU is available\n",
      "CUDA Available:  [PhysicalDevice(name='/physical_device:GPU:0', device_type='GPU')]\n"
     ]
    },
    {
     "name": "stderr",
     "output_type": "stream",
     "text": [
      "WARNING: All log messages before absl::InitializeLog() is called are written to STDERR\n",
      "I0000 00:00:1723444742.317597  318956 cuda_executor.cc:1001] could not open file to read NUMA node: /sys/bus/pci/devices/0000:01:00.0/numa_node\n",
      "Your kernel may have been built without NUMA support.\n",
      "I0000 00:00:1723444742.645761  318956 cuda_executor.cc:1001] could not open file to read NUMA node: /sys/bus/pci/devices/0000:01:00.0/numa_node\n",
      "Your kernel may have been built without NUMA support.\n",
      "I0000 00:00:1723444742.645835  318956 cuda_executor.cc:1001] could not open file to read NUMA node: /sys/bus/pci/devices/0000:01:00.0/numa_node\n",
      "Your kernel may have been built without NUMA support.\n"
     ]
    }
   ],
   "source": [
    "if tf.config.list_physical_devices('GPU'):\n",
    "  print(\"GPU is available\")\n",
    "  print(\"CUDA Available: \", tf.config.list_physical_devices('GPU'))\n",
    "  \n",
    "else:\n",
    "  print(\"GPU is not available\")"
   ]
  },
  {
   "cell_type": "code",
   "execution_count": null,
   "metadata": {},
   "outputs": [],
   "source": [
    "# Train data file location, file must be csv\n",
    "train_path = \"data_sets/sample_train.csv\"\n",
    "# Test data file location, file must be csv\n",
    "test_path = \"data_sets/sample_test.csv\""
   ]
  },
  {
   "cell_type": "code",
   "execution_count": 3,
   "metadata": {},
   "outputs": [
    {
     "name": "stdout",
     "output_type": "stream",
     "text": [
      "a\n",
      "(547277, 20)\n"
     ]
    },
    {
     "data": {
      "text/html": [
       "<div>\n",
       "<style scoped>\n",
       "    .dataframe tbody tr th:only-of-type {\n",
       "        vertical-align: middle;\n",
       "    }\n",
       "\n",
       "    .dataframe tbody tr th {\n",
       "        vertical-align: top;\n",
       "    }\n",
       "\n",
       "    .dataframe thead th {\n",
       "        text-align: right;\n",
       "    }\n",
       "</style>\n",
       "<table border=\"1\" class=\"dataframe\">\n",
       "  <thead>\n",
       "    <tr style=\"text-align: right;\">\n",
       "      <th></th>\n",
       "      <th>Millis</th>\n",
       "      <th>ECG</th>\n",
       "      <th>IR</th>\n",
       "      <th>RED</th>\n",
       "      <th>patient</th>\n",
       "      <th>rate_avg</th>\n",
       "      <th>rate_std</th>\n",
       "      <th>rate_min</th>\n",
       "      <th>rate_max</th>\n",
       "      <th>result</th>\n",
       "      <th>sex</th>\n",
       "      <th>HT</th>\n",
       "      <th>DM</th>\n",
       "      <th>HL</th>\n",
       "      <th>KAH</th>\n",
       "      <th>KOAH</th>\n",
       "      <th>KBY</th>\n",
       "      <th>KC HST</th>\n",
       "      <th>height</th>\n",
       "      <th>weight</th>\n",
       "    </tr>\n",
       "  </thead>\n",
       "  <tbody>\n",
       "    <tr>\n",
       "      <th>0</th>\n",
       "      <td>892</td>\n",
       "      <td>226.0</td>\n",
       "      <td>28556.0</td>\n",
       "      <td>28966.0</td>\n",
       "      <td>1</td>\n",
       "      <td>0.0</td>\n",
       "      <td>0.0</td>\n",
       "      <td>0</td>\n",
       "      <td>0</td>\n",
       "      <td>1</td>\n",
       "      <td>K</td>\n",
       "      <td>1.0</td>\n",
       "      <td>0.0</td>\n",
       "      <td>0.0</td>\n",
       "      <td>0.0</td>\n",
       "      <td>0.0</td>\n",
       "      <td>0.0</td>\n",
       "      <td>0.0</td>\n",
       "      <td>158.0</td>\n",
       "      <td>95.0</td>\n",
       "    </tr>\n",
       "    <tr>\n",
       "      <th>1</th>\n",
       "      <td>893</td>\n",
       "      <td>226.0</td>\n",
       "      <td>28554.0</td>\n",
       "      <td>28959.0</td>\n",
       "      <td>1</td>\n",
       "      <td>0.0</td>\n",
       "      <td>0.0</td>\n",
       "      <td>0</td>\n",
       "      <td>0</td>\n",
       "      <td>1</td>\n",
       "      <td>K</td>\n",
       "      <td>1.0</td>\n",
       "      <td>0.0</td>\n",
       "      <td>0.0</td>\n",
       "      <td>0.0</td>\n",
       "      <td>0.0</td>\n",
       "      <td>0.0</td>\n",
       "      <td>0.0</td>\n",
       "      <td>158.0</td>\n",
       "      <td>95.0</td>\n",
       "    </tr>\n",
       "    <tr>\n",
       "      <th>2</th>\n",
       "      <td>893</td>\n",
       "      <td>226.0</td>\n",
       "      <td>28556.0</td>\n",
       "      <td>28960.0</td>\n",
       "      <td>1</td>\n",
       "      <td>0.0</td>\n",
       "      <td>0.0</td>\n",
       "      <td>0</td>\n",
       "      <td>0</td>\n",
       "      <td>1</td>\n",
       "      <td>K</td>\n",
       "      <td>1.0</td>\n",
       "      <td>0.0</td>\n",
       "      <td>0.0</td>\n",
       "      <td>0.0</td>\n",
       "      <td>0.0</td>\n",
       "      <td>0.0</td>\n",
       "      <td>0.0</td>\n",
       "      <td>158.0</td>\n",
       "      <td>95.0</td>\n",
       "    </tr>\n",
       "    <tr>\n",
       "      <th>3</th>\n",
       "      <td>893</td>\n",
       "      <td>226.0</td>\n",
       "      <td>28552.0</td>\n",
       "      <td>28959.0</td>\n",
       "      <td>1</td>\n",
       "      <td>0.0</td>\n",
       "      <td>0.0</td>\n",
       "      <td>0</td>\n",
       "      <td>0</td>\n",
       "      <td>1</td>\n",
       "      <td>K</td>\n",
       "      <td>1.0</td>\n",
       "      <td>0.0</td>\n",
       "      <td>0.0</td>\n",
       "      <td>0.0</td>\n",
       "      <td>0.0</td>\n",
       "      <td>0.0</td>\n",
       "      <td>0.0</td>\n",
       "      <td>158.0</td>\n",
       "      <td>95.0</td>\n",
       "    </tr>\n",
       "    <tr>\n",
       "      <th>4</th>\n",
       "      <td>894</td>\n",
       "      <td>226.0</td>\n",
       "      <td>28551.0</td>\n",
       "      <td>28954.0</td>\n",
       "      <td>1</td>\n",
       "      <td>0.0</td>\n",
       "      <td>0.0</td>\n",
       "      <td>0</td>\n",
       "      <td>0</td>\n",
       "      <td>1</td>\n",
       "      <td>K</td>\n",
       "      <td>1.0</td>\n",
       "      <td>0.0</td>\n",
       "      <td>0.0</td>\n",
       "      <td>0.0</td>\n",
       "      <td>0.0</td>\n",
       "      <td>0.0</td>\n",
       "      <td>0.0</td>\n",
       "      <td>158.0</td>\n",
       "      <td>95.0</td>\n",
       "    </tr>\n",
       "  </tbody>\n",
       "</table>\n",
       "</div>"
      ],
      "text/plain": [
       "   Millis    ECG       IR      RED  patient  rate_avg  rate_std  rate_min  \\\n",
       "0     892  226.0  28556.0  28966.0        1       0.0       0.0         0   \n",
       "1     893  226.0  28554.0  28959.0        1       0.0       0.0         0   \n",
       "2     893  226.0  28556.0  28960.0        1       0.0       0.0         0   \n",
       "3     893  226.0  28552.0  28959.0        1       0.0       0.0         0   \n",
       "4     894  226.0  28551.0  28954.0        1       0.0       0.0         0   \n",
       "\n",
       "   rate_max result sex   HT   DM   HL  KAH  KOAH  KBY  KC HST  height  weight  \n",
       "0         0      1   K  1.0  0.0  0.0  0.0   0.0  0.0     0.0   158.0    95.0  \n",
       "1         0      1   K  1.0  0.0  0.0  0.0   0.0  0.0     0.0   158.0    95.0  \n",
       "2         0      1   K  1.0  0.0  0.0  0.0   0.0  0.0     0.0   158.0    95.0  \n",
       "3         0      1   K  1.0  0.0  0.0  0.0   0.0  0.0     0.0   158.0    95.0  \n",
       "4         0      1   K  1.0  0.0  0.0  0.0   0.0  0.0     0.0   158.0    95.0  "
      ]
     },
     "execution_count": 3,
     "metadata": {},
     "output_type": "execute_result"
    }
   ],
   "source": [
    "train_df = pd.read_csv(train_path)\n",
    "if 'Unnamed: 0' in train_df.columns:\n",
    "    train_df = train_df.drop('Unnamed: 0', axis=1)\n",
    "\n",
    "test_df = pd.read_csv(test_path)\n",
    "if 'Unnamed: 0' in test_df.columns:\n",
    "    test_df = test_df.drop('Unnamed: 0', axis=1)"
   ]
  },
  {
   "cell_type": "code",
   "execution_count": null,
   "metadata": {},
   "outputs": [],
   "source": [
    "norm_cols = train_df.drop(columns=['Millis', 'patient', 'result', 'sex']).columns\n",
    "scaler = StandardScaler()\n",
    "train_df[norm_cols] = scaler.fit_transform(train_df[norm_cols])\n",
    "test_df[norm_cols] = scaler.transform(test_df[norm_cols])\n",
    "n_classes = len(np.unique(train_df.result))"
   ]
  },
  {
   "cell_type": "code",
   "execution_count": null,
   "metadata": {},
   "outputs": [],
   "source": [
    "features = len(train_df.drop(columns=['result']).columns)\n",
    "\n",
    "train_X = train_df.drop('result', axis=1)\n",
    "train_y = train_df.result\n",
    "test_X = test_df.drop('result', axis=1)\n",
    "test_y = test_df.result\n",
    "\n",
    "# Ensure train_y and test_y are binary (0 or 1)\n",
    "train_y = train_y.astype(np.float32)\n",
    "test_y = test_y.astype(np.float32)\n",
    "\n",
    "train_X = train_X.values.reshape((train_X.values.shape[0], train_X.values.shape[1], 1))\n",
    "test_X = test_X.values.reshape((test_X.values.shape[0], test_X.values.shape[1], 1))"
   ]
  },
  {
   "cell_type": "code",
   "execution_count": null,
   "metadata": {},
   "outputs": [],
   "source": [
    "epochs=20\n",
    "\n",
    "timesteps = 2048\n",
    "batch_size=1024\n",
    "\n",
    "learning_rate = 0.005"
   ]
  },
  {
   "cell_type": "code",
   "execution_count": null,
   "metadata": {},
   "outputs": [],
   "source": [
    "model = Sequential()\n",
    "model.add(GRU(250, input_shape=(timesteps, features), return_sequences=True))\n",
    "model.add(GRU(250))\n",
    "model.add(Dense(1, activation='sigmoid'))\n",
    "\n",
    "# Compiling the model\n",
    "optimizer = Adam(learning_rate=learning_rate)\n",
    "model.compile(optimizer=optimizer, loss='binary_crossentropy', metrics=['accuracy'])\n",
    "# Training the model\n",
    "model.fit(train_X, train_y, epochs=epochs, batch_size=batch_size)\n",
    "\n",
    "# Predicting on the same data (for simplicity)\n",
    "predictions = model.predict(test_X)\n",
    "preds = (predictions > 0.5).astype(int)\n",
    "\n",
    "print(classification_report(test_y, preds))"
   ]
  },
  {
   "cell_type": "code",
   "execution_count": null,
   "metadata": {},
   "outputs": [],
   "source": [
    "test"
   ]
  }
 ],
 "metadata": {
  "kernelspec": {
   "display_name": "tf",
   "language": "python",
   "name": "python3"
  },
  "language_info": {
   "codemirror_mode": {
    "name": "ipython",
    "version": 3
   },
   "file_extension": ".py",
   "mimetype": "text/x-python",
   "name": "python",
   "nbconvert_exporter": "python",
   "pygments_lexer": "ipython3",
   "version": "3.10.14"
  }
 },
 "nbformat": 4,
 "nbformat_minor": 2
}
