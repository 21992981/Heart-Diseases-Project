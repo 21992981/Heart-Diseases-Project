{
 "cells": [
  {
   "cell_type": "code",
   "execution_count": 25,
   "metadata": {},
   "outputs": [],
   "source": [
    "import pandas as pd\n",
    "import os"
   ]
  },
  {
   "cell_type": "code",
   "execution_count": 26,
   "metadata": {},
   "outputs": [
    {
     "data": {
      "text/plain": [
       "'/home/honorsea/Desktop/sentora/heart_diseases/datasets/old_data/patient_info.xlsx'"
      ]
     },
     "execution_count": 26,
     "metadata": {},
     "output_type": "execute_result"
    }
   ],
   "source": [
    "cwd = os.getcwd()\n",
    "directory = cwd + \"/datasets/old_data/patient_info.xlsx\"\n",
    "directory"
   ]
  },
  {
   "cell_type": "code",
   "execution_count": 27,
   "metadata": {},
   "outputs": [
    {
     "data": {
      "text/html": [
       "<div>\n",
       "<style scoped>\n",
       "    .dataframe tbody tr th:only-of-type {\n",
       "        vertical-align: middle;\n",
       "    }\n",
       "\n",
       "    .dataframe tbody tr th {\n",
       "        vertical-align: top;\n",
       "    }\n",
       "\n",
       "    .dataframe thead th {\n",
       "        text-align: right;\n",
       "    }\n",
       "</style>\n",
       "<table border=\"1\" class=\"dataframe\">\n",
       "  <thead>\n",
       "    <tr style=\"text-align: right;\">\n",
       "      <th></th>\n",
       "      <th>id</th>\n",
       "      <th>name_surname</th>\n",
       "      <th>identification_number</th>\n",
       "      <th>date</th>\n",
       "      <th>sex</th>\n",
       "      <th>w/h</th>\n",
       "      <th>pressure</th>\n",
       "      <th>HT</th>\n",
       "      <th>DM</th>\n",
       "      <th>HL</th>\n",
       "      <th>KAH</th>\n",
       "      <th>KOAH</th>\n",
       "      <th>KBY</th>\n",
       "      <th>KC HST</th>\n",
       "      <th>NOT</th>\n",
       "      <th>complaint</th>\n",
       "    </tr>\n",
       "  </thead>\n",
       "  <tbody>\n",
       "    <tr>\n",
       "      <th>0</th>\n",
       "      <td>1</td>\n",
       "      <td>NURCAN TANTÜR</td>\n",
       "      <td>63115237952</td>\n",
       "      <td>2023-10-18</td>\n",
       "      <td>K</td>\n",
       "      <td>158/95</td>\n",
       "      <td>141/77</td>\n",
       "      <td>1.0</td>\n",
       "      <td>0.0</td>\n",
       "      <td>0.0</td>\n",
       "      <td>0.0</td>\n",
       "      <td>0.0</td>\n",
       "      <td>0.0</td>\n",
       "      <td>0.0</td>\n",
       "      <td>NaN</td>\n",
       "      <td>NaN</td>\n",
       "    </tr>\n",
       "    <tr>\n",
       "      <th>1</th>\n",
       "      <td>2</td>\n",
       "      <td>MÜNÜR  ÇAPKINLAR</td>\n",
       "      <td>34333168786</td>\n",
       "      <td>2023-10-18</td>\n",
       "      <td>E</td>\n",
       "      <td>170/83</td>\n",
       "      <td>132/80</td>\n",
       "      <td>1.0</td>\n",
       "      <td>0.0</td>\n",
       "      <td>0.0</td>\n",
       "      <td>0.0</td>\n",
       "      <td>0.0</td>\n",
       "      <td>0.0</td>\n",
       "      <td>0.0</td>\n",
       "      <td>NaN</td>\n",
       "      <td>NaN</td>\n",
       "    </tr>\n",
       "    <tr>\n",
       "      <th>2</th>\n",
       "      <td>3</td>\n",
       "      <td>VEZİR YAŞAR</td>\n",
       "      <td>31936213592</td>\n",
       "      <td>2023-10-18</td>\n",
       "      <td>E</td>\n",
       "      <td>165/73</td>\n",
       "      <td>39/77</td>\n",
       "      <td>0.0</td>\n",
       "      <td>1.0</td>\n",
       "      <td>0.0</td>\n",
       "      <td>0.0</td>\n",
       "      <td>0.0</td>\n",
       "      <td>0.0</td>\n",
       "      <td>0.0</td>\n",
       "      <td>NaN</td>\n",
       "      <td>NaN</td>\n",
       "    </tr>\n",
       "    <tr>\n",
       "      <th>3</th>\n",
       "      <td>4</td>\n",
       "      <td>MENŞURE ÇİNİCİ</td>\n",
       "      <td>25627707118</td>\n",
       "      <td>2023-10-18</td>\n",
       "      <td>K</td>\n",
       "      <td>/78</td>\n",
       "      <td>146/90</td>\n",
       "      <td>1.0</td>\n",
       "      <td>0.0</td>\n",
       "      <td>0.0</td>\n",
       "      <td>0.0</td>\n",
       "      <td>0.0</td>\n",
       "      <td>0.0</td>\n",
       "      <td>0.0</td>\n",
       "      <td>NaN</td>\n",
       "      <td>NaN</td>\n",
       "    </tr>\n",
       "    <tr>\n",
       "      <th>4</th>\n",
       "      <td>5</td>\n",
       "      <td>OĞUZHAN GÜLOĞULLARI</td>\n",
       "      <td>20023624076</td>\n",
       "      <td>2023-10-18</td>\n",
       "      <td>E</td>\n",
       "      <td>178/70</td>\n",
       "      <td>32/62</td>\n",
       "      <td>0.0</td>\n",
       "      <td>0.0</td>\n",
       "      <td>0.0</td>\n",
       "      <td>0.0</td>\n",
       "      <td>0.0</td>\n",
       "      <td>0.0</td>\n",
       "      <td>0.0</td>\n",
       "      <td>NaN</td>\n",
       "      <td>ATGA</td>\n",
       "    </tr>\n",
       "  </tbody>\n",
       "</table>\n",
       "</div>"
      ],
      "text/plain": [
       "   id         name_surname  identification_number       date sex     w/h  \\\n",
       "0   1        NURCAN TANTÜR            63115237952 2023-10-18   K  158/95   \n",
       "1   2     MÜNÜR  ÇAPKINLAR            34333168786 2023-10-18   E  170/83   \n",
       "2   3          VEZİR YAŞAR            31936213592 2023-10-18   E  165/73   \n",
       "3   4       MENŞURE ÇİNİCİ            25627707118 2023-10-18   K     /78   \n",
       "4   5  OĞUZHAN GÜLOĞULLARI            20023624076 2023-10-18   E  178/70   \n",
       "\n",
       "  pressure   HT   DM   HL  KAH  KOAH  KBY  KC HST  NOT complaint  \n",
       "0   141/77  1.0  0.0  0.0  0.0   0.0  0.0     0.0  NaN       NaN  \n",
       "1   132/80  1.0  0.0  0.0  0.0   0.0  0.0     0.0  NaN       NaN  \n",
       "2    39/77  0.0  1.0  0.0  0.0   0.0  0.0     0.0  NaN       NaN  \n",
       "3   146/90  1.0  0.0  0.0  0.0   0.0  0.0     0.0  NaN       NaN  \n",
       "4    32/62  0.0  0.0  0.0  0.0   0.0  0.0     0.0  NaN      ATGA  "
      ]
     },
     "execution_count": 27,
     "metadata": {},
     "output_type": "execute_result"
    }
   ],
   "source": [
    "df = pd.read_excel(directory)\n",
    "df.head()"
   ]
  },
  {
   "cell_type": "code",
   "execution_count": 28,
   "metadata": {},
   "outputs": [
    {
     "data": {
      "text/plain": [
       "id                                int64\n",
       "name_surname                     object\n",
       "identification_number             int64\n",
       "date                     datetime64[ns]\n",
       "sex                              object\n",
       "w/h                              object\n",
       "pressure                         object\n",
       "HT                              float64\n",
       "DM                              float64\n",
       "HL                              float64\n",
       "KAH                             float64\n",
       "KOAH                            float64\n",
       "KBY                             float64\n",
       "KC HST                          float64\n",
       "NOT                              object\n",
       "complaint                        object\n",
       "dtype: object"
      ]
     },
     "execution_count": 28,
     "metadata": {},
     "output_type": "execute_result"
    }
   ],
   "source": [
    "df.dtypes"
   ]
  },
  {
   "cell_type": "code",
   "execution_count": 29,
   "metadata": {},
   "outputs": [
    {
     "data": {
      "text/plain": [
       "id                        0\n",
       "name_surname              0\n",
       "identification_number     0\n",
       "date                      0\n",
       "sex                       0\n",
       "w/h                       1\n",
       "pressure                  2\n",
       "HT                        1\n",
       "DM                        1\n",
       "HL                        1\n",
       "KAH                       1\n",
       "KOAH                      1\n",
       "KBY                       1\n",
       "KC HST                    1\n",
       "NOT                      32\n",
       "complaint                20\n",
       "dtype: int64"
      ]
     },
     "execution_count": 29,
     "metadata": {},
     "output_type": "execute_result"
    }
   ],
   "source": [
    "df.isna().sum()"
   ]
  },
  {
   "cell_type": "code",
   "execution_count": 30,
   "metadata": {},
   "outputs": [],
   "source": [
    "df[['height', 'weight']] = df['w/h'].str.split('/', expand=True)\n",
    "df['height'] = pd.to_numeric(df['height'], errors='coerce')\n",
    "df['weight'] = pd.to_numeric(df['weight'], errors='coerce')\n",
    "df = df.drop(columns=['w/h'])\n",
    "\n",
    "df[['systolic_pressure', 'diastolic_pressure']] = df['pressure'].str.split('/', expand=True)\n",
    "df['systolic_pressure'] = pd.to_numeric(df['systolic_pressure'], errors='coerce')\n",
    "df['diastolic_pressure'] = pd.to_numeric(df['diastolic_pressure'], errors='coerce')\n",
    "df = df.drop(columns=['pressure'])"
   ]
  },
  {
   "cell_type": "code",
   "execution_count": 31,
   "metadata": {},
   "outputs": [],
   "source": [
    "df.to_csv('datasets/patient_info.csv')"
   ]
  }
 ],
 "metadata": {
  "kernelspec": {
   "display_name": "Python 3",
   "language": "python",
   "name": "python3"
  },
  "language_info": {
   "codemirror_mode": {
    "name": "ipython",
    "version": 3
   },
   "file_extension": ".py",
   "mimetype": "text/x-python",
   "name": "python",
   "nbconvert_exporter": "python",
   "pygments_lexer": "ipython3",
   "version": "3.12.undefined"
  }
 },
 "nbformat": 4,
 "nbformat_minor": 2
}
