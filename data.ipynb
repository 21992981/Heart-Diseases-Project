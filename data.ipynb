{
 "cells": [
  {
   "cell_type": "code",
   "execution_count": 1,
   "metadata": {},
   "outputs": [],
   "source": [
    "import pandas as pd\n",
    "import glob\n",
    "import os\n",
    "import re"
   ]
  },
  {
   "cell_type": "code",
   "execution_count": 2,
   "metadata": {},
   "outputs": [],
   "source": [
    "def find_str(pattern, text):\n",
    "    match = re.search(pattern, text)\n",
    "    if match:\n",
    "        val = match.group(1)\n",
    "        return val\n",
    "    else:\n",
    "        return None"
   ]
  },
  {
   "cell_type": "code",
   "execution_count": 3,
   "metadata": {},
   "outputs": [],
   "source": [
    "cwd = os.getcwd()\n",
    "directory = cwd + '/datasets/old_data/hastaverileri/'\n",
    "\n",
    "csv_files = glob.glob(os.path.join(directory, '**', '*.csv'), recursive=True)\n",
    "csv_files = sorted(csv_files, key=lambda x: int(x.split('/')[-1].split('.')[0]))"
   ]
  },
  {
   "cell_type": "code",
   "execution_count": 4,
   "metadata": {},
   "outputs": [
    {
     "data": {
      "text/plain": [
       "['/home/honorsea/Desktop/sentora/heart_diseases/datasets/old_data/hastaverileri/1.csv',\n",
       " '/home/honorsea/Desktop/sentora/heart_diseases/datasets/old_data/hastaverileri/2.csv',\n",
       " '/home/honorsea/Desktop/sentora/heart_diseases/datasets/old_data/hastaverileri/3.csv',\n",
       " '/home/honorsea/Desktop/sentora/heart_diseases/datasets/old_data/hastaverileri/4.csv',\n",
       " '/home/honorsea/Desktop/sentora/heart_diseases/datasets/old_data/hastaverileri/5.csv',\n",
       " '/home/honorsea/Desktop/sentora/heart_diseases/datasets/old_data/hastaverileri/6.csv',\n",
       " '/home/honorsea/Desktop/sentora/heart_diseases/datasets/old_data/hastaverileri/7.csv',\n",
       " '/home/honorsea/Desktop/sentora/heart_diseases/datasets/old_data/hastaverileri/8.csv',\n",
       " '/home/honorsea/Desktop/sentora/heart_diseases/datasets/old_data/hastaverileri/9.csv',\n",
       " '/home/honorsea/Desktop/sentora/heart_diseases/datasets/old_data/hastaverileri/10.csv',\n",
       " '/home/honorsea/Desktop/sentora/heart_diseases/datasets/old_data/hastaverileri/11.csv',\n",
       " '/home/honorsea/Desktop/sentora/heart_diseases/datasets/old_data/hastaverileri/12.csv',\n",
       " '/home/honorsea/Desktop/sentora/heart_diseases/datasets/old_data/hastaverileri/13.csv',\n",
       " '/home/honorsea/Desktop/sentora/heart_diseases/datasets/old_data/hastaverileri/14.csv',\n",
       " '/home/honorsea/Desktop/sentora/heart_diseases/datasets/old_data/hastaverileri/15.csv',\n",
       " '/home/honorsea/Desktop/sentora/heart_diseases/datasets/old_data/hastaverileri/16.csv',\n",
       " '/home/honorsea/Desktop/sentora/heart_diseases/datasets/old_data/hastaverileri/17.csv',\n",
       " '/home/honorsea/Desktop/sentora/heart_diseases/datasets/old_data/hastaverileri/18.csv',\n",
       " '/home/honorsea/Desktop/sentora/heart_diseases/datasets/old_data/hastaverileri/19.csv',\n",
       " '/home/honorsea/Desktop/sentora/heart_diseases/datasets/old_data/hastaverileri/20.csv',\n",
       " '/home/honorsea/Desktop/sentora/heart_diseases/datasets/old_data/hastaverileri/21.csv',\n",
       " '/home/honorsea/Desktop/sentora/heart_diseases/datasets/old_data/hastaverileri/22.csv',\n",
       " '/home/honorsea/Desktop/sentora/heart_diseases/datasets/old_data/hastaverileri/23.csv',\n",
       " '/home/honorsea/Desktop/sentora/heart_diseases/datasets/old_data/hastaverileri/24.csv',\n",
       " '/home/honorsea/Desktop/sentora/heart_diseases/datasets/old_data/hastaverileri/25.csv',\n",
       " '/home/honorsea/Desktop/sentora/heart_diseases/datasets/old_data/hastaverileri/26.csv',\n",
       " '/home/honorsea/Desktop/sentora/heart_diseases/datasets/old_data/hastaverileri/27.csv',\n",
       " '/home/honorsea/Desktop/sentora/heart_diseases/datasets/old_data/hastaverileri/28.csv',\n",
       " '/home/honorsea/Desktop/sentora/heart_diseases/datasets/old_data/hastaverileri/29.csv',\n",
       " '/home/honorsea/Desktop/sentora/heart_diseases/datasets/old_data/hastaverileri/30.csv',\n",
       " '/home/honorsea/Desktop/sentora/heart_diseases/datasets/old_data/hastaverileri/31.csv',\n",
       " '/home/honorsea/Desktop/sentora/heart_diseases/datasets/old_data/hastaverileri/32.csv',\n",
       " '/home/honorsea/Desktop/sentora/heart_diseases/datasets/old_data/hastaverileri/33.csv',\n",
       " '/home/honorsea/Desktop/sentora/heart_diseases/datasets/old_data/hastaverileri/34.csv',\n",
       " '/home/honorsea/Desktop/sentora/heart_diseases/datasets/old_data/hastaverileri/35.csv',\n",
       " '/home/honorsea/Desktop/sentora/heart_diseases/datasets/old_data/hastaverileri/36.csv',\n",
       " '/home/honorsea/Desktop/sentora/heart_diseases/datasets/old_data/hastaverileri/37.csv',\n",
       " '/home/honorsea/Desktop/sentora/heart_diseases/datasets/old_data/hastaverileri/38.csv',\n",
       " '/home/honorsea/Desktop/sentora/heart_diseases/datasets/old_data/hastaverileri/39.csv',\n",
       " '/home/honorsea/Desktop/sentora/heart_diseases/datasets/old_data/hastaverileri/40.csv',\n",
       " '/home/honorsea/Desktop/sentora/heart_diseases/datasets/old_data/hastaverileri/41.csv']"
      ]
     },
     "execution_count": 4,
     "metadata": {},
     "output_type": "execute_result"
    }
   ],
   "source": [
    "csv_files"
   ]
  },
  {
   "cell_type": "code",
   "execution_count": 23,
   "metadata": {},
   "outputs": [],
   "source": [
    "dataframes = []\n",
    "for file in csv_files:\n",
    "    patient = int(re.search(r'/(\\d+)\\.csv$', file).group(1))\n",
    "    df = pd.read_csv(file)\n",
    "    df['patient'] = patient\n",
    "    dataframes.append(df)\n",
    "\n",
    "combined_df = pd.concat(dataframes, ignore_index=True)\n",
    "combined_df['datetime'] = pd.to_datetime(combined_df['Date'] + ' ' + combined_df['Time'], format='%d.%m.%Y %H:%M:%S')\n",
    "combined_df = combined_df.drop(columns=['Date', 'Time'])"
   ]
  },
  {
   "cell_type": "code",
   "execution_count": 24,
   "metadata": {},
   "outputs": [
    {
     "data": {
      "text/plain": [
       "Millis               int64\n",
       "ECG                float64\n",
       "IR                 float64\n",
       "RED                float64\n",
       "patient              int64\n",
       "datetime    datetime64[ns]\n",
       "dtype: object"
      ]
     },
     "execution_count": 24,
     "metadata": {},
     "output_type": "execute_result"
    }
   ],
   "source": [
    "combined_df.dtypes"
   ]
  },
  {
   "cell_type": "code",
   "execution_count": 25,
   "metadata": {},
   "outputs": [
    {
     "data": {
      "text/html": [
       "<div>\n",
       "<style scoped>\n",
       "    .dataframe tbody tr th:only-of-type {\n",
       "        vertical-align: middle;\n",
       "    }\n",
       "\n",
       "    .dataframe tbody tr th {\n",
       "        vertical-align: top;\n",
       "    }\n",
       "\n",
       "    .dataframe thead th {\n",
       "        text-align: right;\n",
       "    }\n",
       "</style>\n",
       "<table border=\"1\" class=\"dataframe\">\n",
       "  <thead>\n",
       "    <tr style=\"text-align: right;\">\n",
       "      <th></th>\n",
       "      <th>Millis</th>\n",
       "      <th>ECG</th>\n",
       "      <th>IR</th>\n",
       "      <th>RED</th>\n",
       "      <th>patient</th>\n",
       "      <th>datetime</th>\n",
       "    </tr>\n",
       "  </thead>\n",
       "  <tbody>\n",
       "    <tr>\n",
       "      <th>0</th>\n",
       "      <td>892</td>\n",
       "      <td>226.0</td>\n",
       "      <td>28556.0</td>\n",
       "      <td>28966.0</td>\n",
       "      <td>1</td>\n",
       "      <td>2023-10-18 09:38:39</td>\n",
       "    </tr>\n",
       "    <tr>\n",
       "      <th>1</th>\n",
       "      <td>893</td>\n",
       "      <td>226.0</td>\n",
       "      <td>28554.0</td>\n",
       "      <td>28959.0</td>\n",
       "      <td>1</td>\n",
       "      <td>2023-10-18 09:38:39</td>\n",
       "    </tr>\n",
       "    <tr>\n",
       "      <th>2</th>\n",
       "      <td>893</td>\n",
       "      <td>226.0</td>\n",
       "      <td>28556.0</td>\n",
       "      <td>28960.0</td>\n",
       "      <td>1</td>\n",
       "      <td>2023-10-18 09:38:39</td>\n",
       "    </tr>\n",
       "    <tr>\n",
       "      <th>3</th>\n",
       "      <td>893</td>\n",
       "      <td>226.0</td>\n",
       "      <td>28552.0</td>\n",
       "      <td>28959.0</td>\n",
       "      <td>1</td>\n",
       "      <td>2023-10-18 09:38:39</td>\n",
       "    </tr>\n",
       "    <tr>\n",
       "      <th>4</th>\n",
       "      <td>894</td>\n",
       "      <td>226.0</td>\n",
       "      <td>28551.0</td>\n",
       "      <td>28954.0</td>\n",
       "      <td>1</td>\n",
       "      <td>2023-10-18 09:38:39</td>\n",
       "    </tr>\n",
       "    <tr>\n",
       "      <th>...</th>\n",
       "      <td>...</td>\n",
       "      <td>...</td>\n",
       "      <td>...</td>\n",
       "      <td>...</td>\n",
       "      <td>...</td>\n",
       "      <td>...</td>\n",
       "    </tr>\n",
       "    <tr>\n",
       "      <th>547272</th>\n",
       "      <td>157</td>\n",
       "      <td>219.0</td>\n",
       "      <td>26252.0</td>\n",
       "      <td>29845.0</td>\n",
       "      <td>41</td>\n",
       "      <td>2023-10-27 15:56:43</td>\n",
       "    </tr>\n",
       "    <tr>\n",
       "      <th>547273</th>\n",
       "      <td>168</td>\n",
       "      <td>219.0</td>\n",
       "      <td>26254.0</td>\n",
       "      <td>29843.0</td>\n",
       "      <td>41</td>\n",
       "      <td>2023-10-27 15:56:43</td>\n",
       "    </tr>\n",
       "    <tr>\n",
       "      <th>547274</th>\n",
       "      <td>170</td>\n",
       "      <td>219.0</td>\n",
       "      <td>26252.0</td>\n",
       "      <td>29844.0</td>\n",
       "      <td>41</td>\n",
       "      <td>2023-10-27 15:56:43</td>\n",
       "    </tr>\n",
       "    <tr>\n",
       "      <th>547275</th>\n",
       "      <td>172</td>\n",
       "      <td>219.0</td>\n",
       "      <td>26250.0</td>\n",
       "      <td>29843.0</td>\n",
       "      <td>41</td>\n",
       "      <td>2023-10-27 15:56:43</td>\n",
       "    </tr>\n",
       "    <tr>\n",
       "      <th>547276</th>\n",
       "      <td>174</td>\n",
       "      <td>219.0</td>\n",
       "      <td>26253.0</td>\n",
       "      <td>29843.0</td>\n",
       "      <td>41</td>\n",
       "      <td>2023-10-27 15:56:43</td>\n",
       "    </tr>\n",
       "  </tbody>\n",
       "</table>\n",
       "<p>547277 rows × 6 columns</p>\n",
       "</div>"
      ],
      "text/plain": [
       "        Millis    ECG       IR      RED  patient            datetime\n",
       "0          892  226.0  28556.0  28966.0        1 2023-10-18 09:38:39\n",
       "1          893  226.0  28554.0  28959.0        1 2023-10-18 09:38:39\n",
       "2          893  226.0  28556.0  28960.0        1 2023-10-18 09:38:39\n",
       "3          893  226.0  28552.0  28959.0        1 2023-10-18 09:38:39\n",
       "4          894  226.0  28551.0  28954.0        1 2023-10-18 09:38:39\n",
       "...        ...    ...      ...      ...      ...                 ...\n",
       "547272     157  219.0  26252.0  29845.0       41 2023-10-27 15:56:43\n",
       "547273     168  219.0  26254.0  29843.0       41 2023-10-27 15:56:43\n",
       "547274     170  219.0  26252.0  29844.0       41 2023-10-27 15:56:43\n",
       "547275     172  219.0  26250.0  29843.0       41 2023-10-27 15:56:43\n",
       "547276     174  219.0  26253.0  29843.0       41 2023-10-27 15:56:43\n",
       "\n",
       "[547277 rows x 6 columns]"
      ]
     },
     "execution_count": 25,
     "metadata": {},
     "output_type": "execute_result"
    }
   ],
   "source": [
    "combined_df"
   ]
  },
  {
   "cell_type": "code",
   "execution_count": 7,
   "metadata": {},
   "outputs": [
    {
     "data": {
      "text/plain": [
       "count       41.000000\n",
       "mean     13348.219512\n",
       "std       4383.715265\n",
       "min       4061.000000\n",
       "25%      10385.000000\n",
       "50%      13014.000000\n",
       "75%      15941.000000\n",
       "max      22088.000000\n",
       "Name: count, dtype: float64"
      ]
     },
     "execution_count": 7,
     "metadata": {},
     "output_type": "execute_result"
    }
   ],
   "source": [
    "combined_df.patient.value_counts().describe()"
   ]
  },
  {
   "cell_type": "code",
   "execution_count": 8,
   "metadata": {},
   "outputs": [],
   "source": [
    "combined_df.to_csv('datasets/timeseriesdata.csv')"
   ]
  }
 ],
 "metadata": {
  "kernelspec": {
   "display_name": "tf",
   "language": "python",
   "name": "python3"
  },
  "language_info": {
   "codemirror_mode": {
    "name": "ipython",
    "version": 3
   },
   "file_extension": ".py",
   "mimetype": "text/x-python",
   "name": "python",
   "nbconvert_exporter": "python",
   "pygments_lexer": "ipython3",
   "version": "3.12.3"
  }
 },
 "nbformat": 4,
 "nbformat_minor": 2
}
